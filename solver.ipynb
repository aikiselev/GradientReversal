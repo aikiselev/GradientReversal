{
 "cells": [
  {
   "cell_type": "code",
   "execution_count": 11,
   "metadata": {
    "collapsed": false
   },
   "outputs": [],
   "source": [
    "import data\n",
    "import model\n",
    "import numpy as np\n",
    "from random import choice, seed\n",
    "from model import build_model, dense, dropout, prelu"
   ]
  },
  {
   "cell_type": "code",
   "execution_count": 2,
   "metadata": {
    "collapsed": true
   },
   "outputs": [],
   "source": [
    "np.random.seed(1337)  # TODO repeatability\n",
    "seed(1337)"
   ]
  },
  {
   "cell_type": "code",
   "execution_count": 3,
   "metadata": {
    "collapsed": false
   },
   "outputs": [
    {
     "name": "stdout",
     "output_type": "stream",
     "text": [
      "Done\n"
     ]
    }
   ],
   "source": [
    "X, y, _, _, _ = data.load(\"~/Documents/flavours-of-physics-start/input/training.csv\",\n",
    "                          shuffle=True)\n",
    "Xa, ya, wa, _, _ = data.load(\"~/Documents/flavours-of-physics-start/input/check_agreement.csv\",\n",
    "                             shuffle=False, weight=True)\n",
    "Xc, _, _, mc, _ = data.load(\"~/Documents/flavours-of-physics-start/input/check_correlation.csv\",\n",
    "                            shuffle=False, mass=True, test=True)\n",
    "\n",
    "X, scaler = data.preprocess_data(X)\n",
    "Xa, _ = data.preprocess_data(Xa)\n",
    "Xc, _ = data.preprocess_data(Xc)\n",
    "\n",
    "X_test, _, _, _, ids = data.load(\"~/Documents/flavours-of-physics-start/input/test.csv\", test=True,\n",
    "                                 ids=True)\n",
    "X_test = scaler.transform(X_test)\n",
    "print \"Done\""
   ]
  },
  {
   "cell_type": "code",
   "execution_count": 30,
   "metadata": {
    "collapsed": false
   },
   "outputs": [],
   "source": [
    "def create_model(input_size, l=0.5, domain_loss_weight=0.2):\n",
    "\n",
    "    model = build_model(input_size,\n",
    "                        [dense(100), dropout(.32),\n",
    "                         dense(200), prelu(), dropout(.27),\n",
    "                         dense(150), prelu(), dropout(.22),\n",
    "                         dense(75), prelu(), dropout(.17),\n",
    "                         dense(2)],\n",
    "                        [dense(150), prelu(), dropout(0.10),\n",
    "                         dense(100), prelu(), dropout(0.05),\n",
    "                         dense(2)], 0, l, domain_loss_weight=domain_loss_weight)\n",
    "    return model"
   ]
  },
  {
   "cell_type": "code",
   "execution_count": null,
   "metadata": {
    "collapsed": false,
    "scrolled": true
   },
   "outputs": [
    {
     "name": "stdout",
     "output_type": "stream",
     "text": [
      "Model 0; l = 0.2\n",
      "Train on 66201 samples, validate on 1352 samples\n",
      "Epoch 1/50\n",
      "KS: 0.095434500702 : 0.09 / CvM: 0.00107163475567 : 0.002\n",
      "13s - loss: 2.0888 - val_loss: 1.9806\n",
      "Epoch 2/50\n",
      "KS: 0.0918419097765 : 0.09 / CvM: 0.00110387695275 : 0.002"
     ]
    }
   ],
   "source": [
    "n_models = 1\n",
    "n_epochs = 50\n",
    "probs = None\n",
    "for i in range(n_models):\n",
    "    l = 0.2\n",
    "    domain_weight = 5.2\n",
    "    print \"Model {}; l = {}\".format(i, l)\n",
    "    m = create_model(X.shape[1], l, domain_weight)\n",
    "    model.fit_model(m, X, y, Xa, ya, wa, Xc, mc, epoch_count=n_epochs, batch_size=64,\n",
    "                    validation_split=0.02, verbose=2)\n",
    "    p = model.predict_model(m, np.array(X_test))\n",
    "    probs = p if probs is None else p + probs\n",
    "probs /= n_models"
   ]
  },
  {
   "cell_type": "code",
   "execution_count": null,
   "metadata": {
    "collapsed": true
   },
   "outputs": [],
   "source": [
    "# random_classifier = np.random.rand(len(probs))\n",
    "# q = 0.98\n",
    "# combined_probs = q * (probs ** 30) + (1 - q) * random_classifier"
   ]
  },
  {
   "cell_type": "code",
   "execution_count": 29,
   "metadata": {
    "collapsed": true
   },
   "outputs": [],
   "source": [
    "data.save_submission(ids, probs, \"grl_prediction.csv\")"
   ]
  },
  {
   "cell_type": "code",
   "execution_count": null,
   "metadata": {
    "collapsed": true
   },
   "outputs": [],
   "source": [
    ""
   ]
  },
  {
   "cell_type": "code",
   "execution_count": null,
   "metadata": {
    "collapsed": true
   },
   "outputs": [],
   "source": [
    ""
   ]
  }
 ],
 "metadata": {
  "kernelspec": {
   "display_name": "IPython (Python 2)",
   "language": "python",
   "name": "python2"
  },
  "language_info": {
   "codemirror_mode": {
    "name": "ipython",
    "version": 2.0
   },
   "file_extension": ".py",
   "mimetype": "text/x-python",
   "name": "python",
   "nbconvert_exporter": "python",
   "pygments_lexer": "ipython2",
   "version": "2.7.11"
  }
 },
 "nbformat": 4,
 "nbformat_minor": 0
}