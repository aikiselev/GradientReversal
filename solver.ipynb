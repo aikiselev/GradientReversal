{
 "cells": [
  {
   "cell_type": "code",
   "execution_count": 2,
   "metadata": {
    "collapsed": false
   },
   "outputs": [
    {
     "name": "stdout",
     "output_type": "stream",
     "text": [
      "Couldn't import dot_parser, loading of dot files will not be possible.\n"
     ]
    },
    {
     "name": "stderr",
     "output_type": "stream",
     "text": [
      "Using Theano backend.\n"
     ]
    }
   ],
   "source": [
    "import data\n",
    "import model\n",
    "from random import choice, seed\n",
    "import numpy as np"
   ]
  },
  {
   "cell_type": "code",
   "execution_count": 3,
   "metadata": {
    "collapsed": true
   },
   "outputs": [],
   "source": [
    "np.random.seed(1337)  # TODO repeatability\n",
    "seed(1337)"
   ]
  },
  {
   "cell_type": "code",
   "execution_count": null,
   "metadata": {
    "collapsed": true
   },
   "outputs": [],
   "source": [
    "X, y, _, _, _ = data.load(\"~/Documents/flavours-of-physics-start/input/training.csv\",\n",
    "                          shuffle=True)\n",
    "Xa, ya, wa, _, _ = data.load(\"~/Documents/flavours-of-physics-start/input/check_agreement.csv\",\n",
    "                             shuffle=False, weight=True)\n",
    "Xc, _, _, mc, _ = data.load(\"~/Documents/flavours-of-physics-start/input/check_correlation.csv\",\n",
    "                            shuffle=False, mass=True, test=True)\n",
    "\n",
    "X, scaler = data.preprocess_data(X)\n",
    "Xa, _ = data.preprocess_data(Xa)\n",
    "Xc, _ = data.preprocess_data(Xc)\n",
    "\n",
    "X_test, _, _, _, ids = data.load(\"~/Documents/flavours-of-physics-start/input/test.csv\", test=True,\n",
    "                                 ids=True)\n",
    "X_test = scaler.transform(X_test)\n",
    "print \"Done\""
   ]
  },
  {
   "cell_type": "code",
   "execution_count": null,
   "metadata": {
    "collapsed": false
   },
   "outputs": [
    {
     "name": "stdout",
     "output_type": "stream",
     "text": [
      "Model 0; l = 1\n",
      "Train on 66201 samples, validate on 1352 samples\n",
      "Epoch 1/1\n",
      "7s - loss: 0.7025 - val_loss: 0.5889\n",
      "KS: 0.134356029456 : 0.09 / CvM: 0.00100984712976 : 0.002\n",
      "Train on 66201 samples, validate on 1352 samples\n",
      "Epoch 1/1\n",
      "6s - loss: 0.6581 - val_loss: 0.5986\n",
      "KS: 0.109969374783 : 0.09 / CvM: 0.00104098244201 : 0.002\n",
      "Train on 66201 samples, validate on 1352 samples\n",
      "Epoch 1/1\n",
      "6s - loss: 0.6525 - val_loss: 0.6010\n",
      "KS: 0.107867413821 : 0.09 / CvM: 0.00105340429691 : 0.002\n",
      "Train on 66201 samples, validate on 1352 samples\n",
      "Epoch 1/1\n",
      "6s - loss: 0.6459 - val_loss: 0.5788\n",
      "KS: 0.0877430949495 : 0.09 / CvM: 0.00097314903688 : 0.002\n",
      "Train on 66201 samples, validate on 1352 samples\n",
      "Epoch 1/1\n",
      "6s - loss: 0.6465 - val_loss: 0.6049\n",
      "KS: 0.12188742725 : 0.09 / CvM: 0.00104897962906 : 0.002\n",
      "Train on 66201 samples, validate on 1352 samples\n",
      "Epoch 1/1\n",
      "6s - loss: 0.6490 - val_loss: 0.5796\n",
      "KS: 0.111832009626 : 0.09 / CvM: 0.000978629973892 : 0.002\n",
      "Train on 66201 samples, validate on 1352 samples\n",
      "Epoch 1/1\n",
      "6s - loss: 0.6378 - val_loss: 0.5912\n",
      "KS: 0.136595732345 : 0.09 / CvM: 0.00101045127951 : 0.002\n",
      "Train on 66201 samples, validate on 1352 samples\n",
      "Epoch 1/1\n",
      "6s - loss: 0.6344 - val_loss: 0.5846\n",
      "KS: 0.131757927826 : 0.09 / CvM: 0.00106666594073 : 0.002\n",
      "Train on 66201 samples, validate on 1352 samples\n",
      "Epoch 1/1\n",
      "6s - loss: 0.6380 - val_loss: 0.5576\n",
      "KS: 0.129864969523 : 0.09 / CvM: 0.000946538271398 : 0.002\n",
      "Train on 66201 samples, validate on 1352 samples\n",
      "Epoch 1/1\n",
      "6s - loss: 0.6241 - val_loss: 0.5845\n",
      "KS: 0.137321318119 : 0.09 / CvM: 0.00103053161968 : 0.002\n",
      "Train on 66201 samples, validate on 1352 samples\n",
      "Epoch 1/1\n",
      "6s - loss: 0.6287 - val_loss: 0.6005\n"
     ]
    }
   ],
   "source": [
    "n_models = 1\n",
    "n_epochs = 50\n",
    "probs = None\n",
    "for i in range(n_models):\n",
    "    l = 1\n",
    "    print \"Model {}; l = {}\".format(i, l)\n",
    "    m = model.create_model(X.shape[1], l, 1)\n",
    "    # model.fit_model_channels(m, X, y, Xa, ya, wa, Xc, mc)\n",
    "    model.fit_model_mc(m, X, y, Xa, ya, wa, Xc, mc,\n",
    "                       epoch_count=n_epochs, batch_size=64, validation_split=0.02)\n",
    "    p = model.predict_model(m, np.array(X_test))\n",
    "    probs = p if probs is None else p + probs\n",
    "probs /= n_models"
   ]
  },
  {
   "cell_type": "code",
   "execution_count": null,
   "metadata": {
    "collapsed": true
   },
   "outputs": [],
   "source": [
    "# random_classifier = np.random.rand(len(probs))\n",
    "# q = 0.98\n",
    "# combined_probs = q * (probs ** 30) + (1 - q) * random_classifier"
   ]
  },
  {
   "cell_type": "code",
   "execution_count": null,
   "metadata": {
    "collapsed": true
   },
   "outputs": [],
   "source": [
    "data.save_submission(ids, probs, \"grl_prediction.csv\")"
   ]
  }
 ],
 "metadata": {
  "kernelspec": {
   "display_name": "IPython (Python 2)",
   "language": "python",
   "name": "python2"
  },
  "language_info": {
   "codemirror_mode": {
    "name": "ipython",
    "version": 2
   },
   "file_extension": ".py",
   "mimetype": "text/x-python",
   "name": "python",
   "nbconvert_exporter": "python",
   "pygments_lexer": "ipython2",
   "version": "2.7.11"
  }
 },
 "nbformat": 4,
 "nbformat_minor": 0
}
