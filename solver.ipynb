{
 "cells": [
  {
   "cell_type": "code",
   "execution_count": 1,
   "metadata": {
    "collapsed": false
   },
   "outputs": [
    {
     "name": "stderr",
     "output_type": "stream",
     "text": [
      "Using Theano backend.\n"
     ]
    }
   ],
   "source": [
    "%matplotlib inline\n",
    "import data\n",
    "import numpy as np\n",
    "import matplotlib.pyplot as plt\n",
    "from classifiers import GRL_classifier, build_sequential_model\n",
    "import stats"
   ]
  },
  {
   "cell_type": "code",
   "execution_count": 2,
   "metadata": {
    "collapsed": false
   },
   "outputs": [],
   "source": [
    "data_folder = \"./\"\n",
    "X, y, _, _, _ = data.load(data_folder + \"training.csv\",\n",
    "                          shuffle=True)\n",
    "Xa, ya, wa, _, _ = data.load(data_folder + \"check_agreement.csv\",\n",
    "                             shuffle=False, weight=True)\n",
    "Xa_train, ya_train, _, _, _ = data.load(data_folder + \"check_agreement.csv\",\n",
    "                                        shuffle=True)\n",
    "Xc, _, _, mc, _ = data.load(data_folder + \"check_correlation.csv\",\n",
    "                            shuffle=False, mass=True, test=True)\n",
    "X, scaler = data.preprocess_data(X)\n",
    "Xa, _ = data.preprocess_data(Xa, scaler)\n",
    "Xa_train, _ = data.preprocess_data(Xa_train, scaler)\n",
    "Xc, _ = data.preprocess_data(Xc, scaler)\n",
    "X_test, _, _, _, ids = data.load(\"test.csv\", test=True,\n",
    "                                 ids=True)\n",
    "X_test, _ = data.preprocess_data(X_test, scaler)"
   ]
  },
  {
   "cell_type": "code",
   "execution_count": null,
   "metadata": {
    "collapsed": false
   },
   "outputs": [],
   "source": [
    "from keras.layers import PReLU, Dropout, Dense\n",
    "\n",
    "def feature_extractor(input_size, output_size):\n",
    "    return build_sequential_model([Dense(150, input_dim=input_size),\n",
    "                                   PReLU(), Dropout(0.5), Dense(140),\n",
    "                                   PReLU(), Dropout(0.45), Dense(120),\n",
    "                                   PReLU(), Dropout(0.42), Dense(110),\n",
    "                                   PReLU(), Dropout(0.4), Dense(output_size)],\n",
    "                                  name=\"feature_extractor\")\n",
    "\n",
    "\n",
    "def label_classifier(input_size, name=\"label_classifier\"):\n",
    "    return build_sequential_model([Dense(90, input_dim=input_size),\n",
    "                                  PReLU(), Dropout(0.4), Dense(80),\n",
    "                                  PReLU(), Dropout(0.35), Dense(70),\n",
    "                                  PReLU(), Dropout(0.3), Dense(2, activation='softmax')],\n",
    "                                  name=name)"
   ]
  },
  {
   "cell_type": "code",
   "execution_count": null,
   "metadata": {
    "collapsed": false,
    "scrolled": true
   },
   "outputs": [
    {
     "name": "stdout",
     "output_type": "stream",
     "text": [
      "Train on 64175 samples, validate on 3378 samples\n",
      "Epoch 1/90\n",
      "33s - loss: 0.8411 - label_classifier_acc: 0.8144 - domain_classifier_acc: 0.8110 - val_loss: 0.6139 - val_label_classifier_acc: 0.8801 - val_domain_classifier_acc: 0.8807\n",
      "Epoch 2/90\n",
      "31s - loss: 0.6655 - label_classifier_acc: 0.8712 - domain_classifier_acc: 0.8711 - val_loss: 0.6516 - val_label_classifier_acc: 0.8840 - val_domain_classifier_acc: 0.8845\n"
     ]
    }
   ],
   "source": [
    "n_epochs = 300\n",
    "np.random.seed(42)  # repeatability\n",
    "\n",
    "from keras.utils import np_utils\n",
    "y_categorical = np_utils.to_categorical(y)\n",
    "ya_categorical = np_utils.to_categorical(ya_train)\n",
    "\n",
    "n_extracted_features = 100\n",
    "f = feature_extractor(X.shape[1], n_extracted_features)\n",
    "l = label_classifier(n_extracted_features)\n",
    "d = label_classifier(n_extracted_features, name=\"domain_classifier\")\n",
    "\n",
    "transfering_ratio = 0.70\n",
    "# Learning on train\n",
    "\n",
    "ks_plot, cvm_plot, auc_plot = [], [], []\n",
    "\n",
    "model = GRL_classifier(f, l, d, 0)\n",
    "metrics_callback = stats.ShowMetrics(model, Xa, ya, wa, Xc, mc, X, y_categorical)\n",
    "model.fit(X, y_categorical, y_categorical,\n",
    "          epoch_count=int((1 - transfering_ratio) * n_epochs),\n",
    "          batch_size=128, validation_split=0.05, verbose=2,\n",
    "          callbacks=[metrics_callback])\n",
    "ks_plot += metrics_callback.history_ks\n",
    "cvm_plot += metrics_callback.history_cvm\n",
    "auc_plot += metrics_callback.history_auc\n",
    "# Transfering to check_agreement\n",
    "ya_output = model.predict(np.array(Xa_train))\n",
    "steps = 90\n",
    "for step in range(steps):\n",
    "    lam = np.linspace(0, 0.3, steps)[step]\n",
    "    print('lambda = ', lam)\n",
    "    model.lam = lam\n",
    "    metrics_callback = stats.ShowMetrics(model, Xa, ya, wa, Xc, mc, X, y_categorical)\n",
    "    model.fit(np.vstack((Xa_train, X)), np.vstack((ya_output, y_categorical)),\n",
    "              np.vstack((ya_categorical, y_categorical)),\n",
    "              epoch_count=int(transfering_ratio * n_epochs / steps),\n",
    "              batch_size=512, validation_split=0.25, verbose=2,\n",
    "              callbacks=[metrics_callback])\n",
    "    cvm_plot += metrics_callback.history_cvm\n",
    "    ks_plot += metrics_callback.history_ks\n",
    "    auc_plot += metrics_callback.history_auc\n",
    "    p = model.predict_probs(np.array(X_test))\n",
    "    data.save_submission(ids, p, \"grl_prediction_{}__.csv\".format(lam))\n",
    "\n",
    "plt.plot(cvm_plot, label='CvM')\n",
    "plt.show()\n",
    "plt.plot(ks_plot, label='KS')\n",
    "plt.show()\n",
    "plt.plot(auc_plot, label='AUC')\n",
    "plt.show()\n",
    "# Output\n",
    "probs = model.predict_probs(np.array(X_test))"
   ]
  },
  {
   "cell_type": "code",
   "execution_count": null,
   "metadata": {
    "collapsed": true
   },
   "outputs": [],
   "source": [
    "data.save_submission(ids, probs, \"grl_prediction.csv\")\n",
    "!zip -9 -r grl_prediciton.csv.zip grl_prediction.csv"
   ]
  }
 ],
 "metadata": {
  "kernelspec": {
   "display_name": "IPython (Python 3)",
   "language": "python",
   "name": "python3"
  },
  "language_info": {
   "codemirror_mode": {
    "name": "ipython",
    "version": 3.0
   },
   "file_extension": ".py",
   "mimetype": "text/x-python",
   "name": "python",
   "nbconvert_exporter": "python",
   "pygments_lexer": "ipython3",
   "version": "3.5.1"
  }
 },
 "nbformat": 4,
 "nbformat_minor": 0
}