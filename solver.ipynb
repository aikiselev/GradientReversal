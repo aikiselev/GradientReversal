{
 "cells": [
  {
   "cell_type": "code",
   "execution_count": 1,
   "metadata": {
    "collapsed": false
   },
   "outputs": [
    {
     "name": "stderr",
     "output_type": "stream",
     "text": [
      "Using Theano backend.\n"
     ]
    }
   ],
   "source": [
    "import data\n",
    "import model\n",
    "import numpy as np\n",
    "from model import build_sequential_model, create_clf"
   ]
  },
  {
   "cell_type": "code",
   "execution_count": 2,
   "metadata": {
    "collapsed": false
   },
   "outputs": [],
   "source": [
    "data_folder = \".\"\n",
    "X, y, _, _, _ = data.load(data_folder + \"training.csv\",\n",
    "                          shuffle=True)\n",
    "Xa, ya, wa, _, _ = data.load(data_folder + \"check_agreement.csv\",\n",
    "                             shuffle=False, weight=True)\n",
    "Xa_train, ya_train, _, _, _ = data.load(data_folder + \"check_agreement.csv\",\n",
    "                                        shuffle=True)\n",
    "Xc, _, _, mc, _ = data.load(data_folder + \"check_correlation.csv\",\n",
    "                            shuffle=False, mass=True, test=True)\n",
    "X, scaler = data.preprocess_data(X)\n",
    "Xa, _ = data.preprocess_data(Xa, scaler)\n",
    "Xa_train, _ = data.preprocess_data(Xa_train, scaler)\n",
    "Xc, _ = data.preprocess_data(Xc, scaler)\n",
    "X_test, _, _, _, ids = data.load(\"test.csv\", test=True,\n",
    "                                 ids=True)\n",
    "X_test, _ = data.preprocess_data(X_test, scaler)"
   ]
  },
  {
   "cell_type": "code",
   "execution_count": 5,
   "metadata": {
    "collapsed": false
   },
   "outputs": [],
   "source": [
    "from keras.layers import PReLU, Dropout, Dense\n",
    "def feature_extractor(input_size, output_size):\n",
    "    return build_sequential_model([Dense(150, input_dim=input_size),\n",
    "                                   PReLU(), Dropout(0.4), Dense(140),\n",
    "                                   PReLU(), Dropout(0.35), Dense(130),\n",
    "                                   PReLU(), Dropout(0.3), Dense(120),\n",
    "                                   PReLU(), Dropout(0.27), Dense(output_size)],\n",
    "                                  name=\"feature_extractor\")\n",
    "\n",
    "\n",
    "def label_classifier(input_size, name=\"label_classifier\"):\n",
    "    return build_sequential_model([Dense(100, input_dim=input_size),\n",
    "                                  PReLU(), Dropout(0.3), Dense(80),\n",
    "                                  PReLU(), Dropout(0.25), Dense(70),\n",
    "                                  PReLU(), Dropout(0.2), Dense(2, activation='softmax')],\n",
    "                                  name=name)"
   ]
  },
  {
   "cell_type": "code",
   "execution_count": null,
   "metadata": {
    "collapsed": false,
    "scrolled": false
   },
   "outputs": [
    {
     "name": "stdout",
     "output_type": "stream",
     "text": [
      "Train on 64175 samples, validate on 3378 samples\n",
      "Epoch 1/104\n",
      "64175/64175 [==============================] - 7s - loss: 0.7989 - label_classifier_acc: 0.8299 - domain_classifier_acc: 0.8287 - val_loss: 0.6794 - val_label_classifier_acc: 0.8760 - val_domain_classifier_acc: 0.8757\n",
      "Epoch 2/104\n",
      "64175/64175 [==============================] - 6s - loss: 0.6516 - label_classifier_acc: 0.8717 - domain_classifier_acc: 0.8715 - val_loss: 0.6403 - val_label_classifier_acc: 0.8863 - val_domain_classifier_acc: 0.8866\n",
      "Epoch 3/104\n",
      "64175/64175 [==============================] - 18s - loss: 0.6213 - label_classifier_acc: 0.8776 - domain_classifier_acc: 0.8775 - val_loss: 0.5603 - val_label_classifier_acc: 0.8881 - val_domain_classifier_acc: 0.8887\n",
      "Epoch 4/104\n",
      " 3200/64175 [>.............................] - ETA: 18s - loss: 0.6099 - label_classifier_acc: 0.8875 - domain_classifier_acc: 0.8869"
     ]
    }
   ],
   "source": [
    "n_models = 1\n",
    "n_epochs = 130\n",
    "probs = None\n",
    "for i in range(n_models):\n",
    "    from keras.utils import np_utils\n",
    "    y_categorical = np_utils.to_categorical(y)\n",
    "    np.random.seed(42)  # repeatability\n",
    "\n",
    "    n_extracted_features = 100\n",
    "    f = feature_extractor(X.shape[1], n_extracted_features)\n",
    "    l = label_classifier(n_extracted_features)\n",
    "    d = label_classifier(n_extracted_features, name=\"domain_classifier\")\n",
    "\n",
    "    transfering_ratio = 0.2  # 0.1\n",
    "    # Learning on train\n",
    "\n",
    "    m = create_clf(f, l, d, 0)\n",
    "    metrics_callback = model.ShowMetrics(m, Xa, ya, wa, Xc, mc, X, y_categorical)\n",
    "    f, l, d = model.fit_model(m, X, y_categorical, y_categorical, Xa, ya,\n",
    "                              wa, Xc, mc, X, y,\n",
    "                              epoch_count=int((1 - transfering_ratio) * n_epochs),\n",
    "                              batch_size=128, validation_split=0.05, verbose=2,\n",
    "                              callbacks=[metrics_callback])\n",
    "    # Transfering to check_agreement\n",
    "    ya_output = model.predict_model(m, np.array(Xa_train))\n",
    "    steps = 3\n",
    "    for step in range(steps):\n",
    "        lam = np.linspace(0.1, 0.4, steps)[step] # np.random.choice(np.linspace(1, 10, 10))\n",
    "        print('lambda = ', lam)\n",
    "        m = create_clf(f, l, d, lam)\n",
    "        f, l, d = model.fit_model(m, Xa_train, ya_output, np_utils.to_categorical(ya_train), Xa, ya, wa, Xc, mc, X, y,\n",
    "                                  epoch_count=int(transfering_ratio * n_epochs / steps),\n",
    "                                  batch_size=512, validation_split=0.5, verbose=2, show_metrics=True)\n",
    "\n",
    "    # Output\n",
    "    p = model.predict_probs_model(m, np.array(X_test))\n",
    "    probs = p if probs is None else p + probs\n",
    "probs /= n_models"
   ]
  },
  {
   "cell_type": "code",
   "execution_count": null,
   "metadata": {
    "collapsed": false
   },
   "outputs": [],
   "source": [
    "data.save_submission(ids, probs, \"grl_prediction.csv\")\n",
    "!zip -9 -r grl_prediciton.csv.zip grl_prediction.csv"
   ]
  },
  {
   "cell_type": "code",
   "execution_count": null,
   "metadata": {
    "collapsed": true
   },
   "outputs": [],
   "source": [
    ""
   ]
  }
 ],
 "metadata": {
  "kernelspec": {
   "display_name": "IPython (Python 3)",
   "language": "python",
   "name": "python3"
  },
  "language_info": {
   "codemirror_mode": {
    "name": "ipython",
    "version": 3.0
   },
   "file_extension": ".py",
   "mimetype": "text/x-python",
   "name": "python",
   "nbconvert_exporter": "python",
   "pygments_lexer": "ipython3",
   "version": "3.5.1"
  }
 },
 "nbformat": 4,
 "nbformat_minor": 0
}