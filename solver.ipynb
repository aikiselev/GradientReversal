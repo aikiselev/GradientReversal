{
 "cells": [
  {
   "cell_type": "code",
   "execution_count": 1,
   "metadata": {},
   "outputs": [
    {
     "name": "stdout",
     "output_type": "stream",
     "text": [
      "Couldn't import dot_parser, loading of dot files will not be possible.\n"
     ]
    },
    {
     "name": "stderr",
     "output_type": "stream",
     "text": [
      "Using Theano backend.\n"
     ]
    }
   ],
   "source": [
    "import data\n",
    "import model\n",
    "from random import choice, seed\n",
    "import numpy as np"
   ]
  },
  {
   "cell_type": "code",
   "execution_count": 2,
   "metadata": {},
   "outputs": [],
   "source": [
    "np.random.seed(1337)  # TODO repeatability\n",
    "seed(1337)"
   ]
  },
  {
   "cell_type": "code",
   "execution_count": 3,
   "metadata": {},
   "outputs": [],
   "source": [
    "X, y, _, _, _ = data.load(\"~/Documents/flavours-of-physics-start/input/training.csv\",\n",
    "                          shuffle=True)\n",
    "Xa, ya, wa, _, _ = data.load(\"~/Documents/flavours-of-physics-start/input/check_agreement.csv\",\n",
    "                             shuffle=False, weight=True)\n",
    "Xc, _, _, mc, _ = data.load(\"~/Documents/flavours-of-physics-start/input/check_correlation.csv\",\n",
    "                            shuffle=False, mass=True, test=True)\n",
    "\n",
    "X, scaler = data.preprocess_data(X)\n",
    "Xa, _ = data.preprocess_data(Xa)\n",
    "Xc, _ = data.preprocess_data(Xc)\n",
    "\n",
    "X_test, _, _, _, ids = data.load(\"~/Documents/flavours-of-physics-start/input/test.csv\", test=True,\n",
    "                                 ids=True)\n",
    "X_test = scaler.transform(X_test)\n",
    "print \"Done\""
   ]
  },
  {
   "cell_type": "code",
   "execution_count": null,
   "metadata": {},
   "outputs": [],
   "source": [
    "n_models = 1\n",
    "n_epochs = 30\n",
    "probs = None\n",
    "for i in range(n_models):\n",
    "    # l = choice(xrange(1, 50))\n",
    "    l = 0\n",
    "    print \"Model {}; l = {}\".format(i, l)\n",
    "    m = model.create_model(X.shape[1], l)\n",
    "    # model.fit_model_channels(m, X, y, Xa, ya, wa, Xc, mc)\n",
    "    model.fit_model_mc(m, X, y, Xa, ya, wa, Xc, mc,\n",
    "                       epoch_count=n_epochs, batch_size=64, validation_split=0.1)\n",
    "    p = model.predict_model(m, np.array(X_test))\n",
    "    probs = p if probs is None else p + probs\n",
    "probs /= n_models"
   ]
  },
  {
   "cell_type": "code",
   "execution_count": null,
   "metadata": {},
   "outputs": [],
   "source": [
    "random_classifier = np.random.rand(len(probs))\n",
    "q = 0.98\n",
    "combined_probs = q * (probs ** 30) + (1 - q) * random_classifier"
   ]
  },
  {
   "cell_type": "code",
   "execution_count": null,
   "metadata": {},
   "outputs": [],
   "source": [
    "data.save_submission(ids, combined_probs, \"grl_prediction.csv\")"
   ]
  }
 ],
 "metadata": {},
 "nbformat": 4,
 "nbformat_minor": 0
}