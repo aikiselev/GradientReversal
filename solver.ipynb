{
 "cells": [
  {
   "cell_type": "code",
   "execution_count": 1,
   "metadata": {
    "collapsed": false
   },
   "outputs": [
    {
     "name": "stderr",
     "output_type": "stream",
     "text": [
      "ERROR (theano.sandbox.cuda): nvcc compiler not found on $PATH. Check your nvcc installation and try again.\n",
      "ERROR:theano.sandbox.cuda:nvcc compiler not found on $PATH. Check your nvcc installation and try again.\n",
      "Using Theano backend.\n"
     ]
    }
   ],
   "source": [
    "import data\n",
    "import model\n",
    "import numpy as np\n",
    "from random import choice, seed\n",
    "from model import build_model, dense, dropout, prelu"
   ]
  },
  {
   "cell_type": "code",
   "execution_count": 2,
   "metadata": {
    "collapsed": false
   },
   "outputs": [
    {
     "name": "stdout",
     "output_type": "stream",
     "text": [
      "Done\n"
     ]
    }
   ],
   "source": [
    "X, y, _, _, _ = data.load(\"~/Documents/flavours-of-physics-start/input/training.csv\",\n",
    "                          shuffle=True)\n",
    "Xa, ya, wa, _, _ = data.load(\"~/Documents/flavours-of-physics-start/input/check_agreement.csv\",\n",
    "                             shuffle=False, weight=True)\n",
    "Xc, _, _, mc, _ = data.load(\"~/Documents/flavours-of-physics-start/input/check_correlation.csv\",\n",
    "                            shuffle=False, mass=True, test=True)\n",
    "\n",
    "X, scaler = data.preprocess_data(X)\n",
    "Xa, _ = data.preprocess_data(Xa, scaler)\n",
    "Xc, _ = data.preprocess_data(Xc, scaler)\n",
    "\n",
    "X_test, _, _, _, ids = data.load(\"~/Documents/flavours-of-physics-start/input/test.csv\", test=True,\n",
    "                                 ids=True)\n",
    "X_test, _ = data.preprocess_data(X_test, scaler)\n",
    "print(\"Done\")"
   ]
  },
  {
   "cell_type": "code",
   "execution_count": 3,
   "metadata": {
    "collapsed": false
   },
   "outputs": [],
   "source": [
    "def create_model(input_size, l=0.5, domain_loss_weight=0.2):\n",
    "\n",
    "    model = build_model(input_size,\n",
    "                        [dense(3 * input_size), prelu(),\n",
    "                         dense(2 * input_size), prelu(),\n",
    "                         dense(1.5 * input_size), prelu(),\n",
    "                         dense(input_size), \n",
    "                         prelu(), dropout(0.05), dense(150),\n",
    "                         prelu(), dropout(0.03), dense(75),\n",
    "                         prelu(), dropout(0.02), dense(2)],\n",
    "                        [prelu(), dropout(0.05), dense(100),\n",
    "                         prelu(), dropout(0.03), dense(75),\n",
    "                         prelu(), dense(2)], 3, l, domain_loss_weight=domain_loss_weight)\n",
    "    return model"
   ]
  },
  {
   "cell_type": "code",
   "execution_count": 4,
   "metadata": {
    "collapsed": false,
    "scrolled": false
   },
   "outputs": [
    {
     "name": "stdout",
     "output_type": "stream",
     "text": [
      "Model 0; l = 1.6; domain_weight = 1\n",
      "Train on 64175 samples, validate on 3378 samples\n",
      "Epoch 1/50\n",
      "KS: 0.05902529951716523 : 0.09 / CvM: 0.0008851526494644607 : 0.002 / AUC: 0.9550188678906582\n",
      "9s - loss: 1.2613 - val_loss: 1.1217\n",
      "Epoch 2/50\n",
      "KS: 0.06805268488096328 : 0.09 / CvM: 0.0009369377641759332 : 0.002 / AUC: 0.9807082808172854\n",
      "9s - loss: 6.4895 - val_loss: 6.8044\n",
      "Epoch 3/50\n",
      "KS: 0.08777376134181367 : 0.09 / CvM: 0.0009399081885834015 : 0.002 / AUC: 0.9864393526154367\n",
      "9s - loss: 6.5109 - val_loss: 6.5836\n",
      "Epoch 4/50\n",
      "KS: 0.1654621565583304 : 0.09 / CvM: 0.0010448282658623808 : 0.002 / AUC: 0.9912938355733196\n",
      "11s - loss: 6.5029 - val_loss: 6.4849\n",
      "Epoch 5/50\n",
      "KS: 0.05940361085104831 : 0.09 / CvM: 0.0010740720346205746 : 0.002 / AUC: 0.9799803438157619\n",
      "11s - loss: 5.9401 - val_loss: 6.3535\n",
      "Epoch 6/50\n",
      "KS: 0.15480424219669697 : 0.09 / CvM: 0.0010131993626380628 : 0.002 / AUC: 0.9912219303492774\n",
      "11s - loss: 6.4566 - val_loss: 6.4978\n",
      "Epoch 7/50\n",
      "KS: 0.19542017307538845 : 0.09 / CvM: 0.0010954637322738955 : 0.002 / AUC: 0.9921385789422288\n",
      "9s - loss: 6.5157 - val_loss: 6.4896\n",
      "Epoch 8/50\n",
      "KS: 0.19426225467720276 : 0.09 / CvM: 0.0011611436928115114 : 0.002 / AUC: 0.9925847494830246\n",
      "10s - loss: 6.4606 - val_loss: 6.4689\n",
      "Epoch 9/50\n",
      "KS: 0.20270864830908958 : 0.09 / CvM: 0.001142428041942476 : 0.002 / AUC: 0.9926982144391941\n",
      "9s - loss: 6.4517 - val_loss: 6.4777\n",
      "Epoch 10/50\n",
      "KS: 0.2230679009854296 : 0.09 / CvM: 0.0011630617971600278 : 0.002 / AUC: 0.9932752481028773\n",
      "10s - loss: 6.4461 - val_loss: 6.4728\n",
      "Epoch 11/50\n",
      "KS: 0.2111586695415189 : 0.09 / CvM: 0.0012393161610544368 : 0.002 / AUC: 0.9933628138188666\n",
      "10s - loss: 6.4426 - val_loss: 6.4666\n",
      "Epoch 12/50\n",
      "KS: 0.12320959436880452 : 0.09 / CvM: 0.0009918793855484029 : 0.002 / AUC: 0.9899949159626062\n",
      "9s - loss: 5.9220 - val_loss: 6.5085\n",
      "Epoch 13/50\n",
      "KS: 0.22541902445740364 : 0.09 / CvM: 0.0012703793490765553 : 0.002 / AUC: 0.9921422194313763\n",
      "10s - loss: 6.4290 - val_loss: 3.0550\n",
      "Epoch 14/50\n",
      "KS: 0.21774884932703498 : 0.09 / CvM: 0.0011726251395963966 : 0.002 / AUC: 0.9934246883650143\n",
      "9s - loss: 6.2305 - val_loss: 6.4668\n",
      "Epoch 15/50\n",
      "KS: 0.18803876952209164 : 0.09 / CvM: 0.0011431384408759396 : 0.002 / AUC: 0.9934378871085374\n",
      "10s - loss: 6.4473 - val_loss: 6.4586\n",
      "Epoch 16/50\n",
      "KS: 0.18843880380313094 : 0.09 / CvM: 0.0011862909719328216 : 0.002 / AUC: 0.9929736800033924\n",
      "10s - loss: 6.2296 - val_loss: 1.2909\n",
      "Epoch 17/50\n",
      "KS: 0.18887561344469272 : 0.09 / CvM: 0.0011498396439463573 : 0.002 / AUC: 0.9926116393290274\n",
      "10s - loss: 6.1011 - val_loss: 6.5412\n",
      "Epoch 18/50\n",
      "KS: 0.21621071356215416 : 0.09 / CvM: 0.0013292387027866656 : 0.002 / AUC: 0.9935793493011098\n",
      "10s - loss: 6.4052 - val_loss: 5.9070\n",
      "Epoch 19/50\n",
      "KS: 0.20515308678877092 : 0.09 / CvM: 0.001126405447238341 : 0.002 / AUC: 0.9932361760816051\n",
      "10s - loss: 8.0463 - val_loss: 6.5340\n",
      "Epoch 20/50\n",
      "KS: 0.22817850827145447 : 0.09 / CvM: 0.0011790006159212991 : 0.002 / AUC: 0.9939078172606783\n",
      "10s - loss: 6.4471 - val_loss: 6.4615\n",
      "Epoch 21/50\n",
      "KS: 0.22414704908749655 : 0.09 / CvM: 0.001189958584096137 : 0.002 / AUC: 0.9940301683224323\n",
      "9s - loss: 6.4396 - val_loss: 6.4604\n",
      "Epoch 22/50\n",
      "KS: 0.21514742330985304 : 0.09 / CvM: 0.001193449375024757 : 0.002 / AUC: 0.9941248986957537\n",
      "10s - loss: 6.4364 - val_loss: 6.4594\n",
      "Epoch 23/50\n",
      "KS: 0.23139891339075147 : 0.09 / CvM: 0.0012118222315489397 : 0.002 / AUC: 0.9941371556057349\n",
      "9s - loss: 6.4334 - val_loss: 6.4703\n",
      "Epoch 24/50\n",
      "KS: 0.22180416213745957 : 0.09 / CvM: 0.0011797817203255028 : 0.002 / AUC: 0.994291748158642\n",
      "10s - loss: 6.4319 - val_loss: 6.4547\n",
      "Epoch 25/50\n",
      "KS: 0.21420588293452697 : 0.09 / CvM: 0.0012008529007331485 : 0.002 / AUC: 0.9943533251104257\n",
      "10s - loss: 6.3182 - val_loss: 6.4576\n",
      "Epoch 26/50\n",
      "KS: 0.13555572213287326 : 0.09 / CvM: 0.0010564707786322274 : 0.002 / AUC: 0.9900314165441841\n",
      "10s - loss: 6.2796 - val_loss: 6.5344\n",
      "Epoch 27/50\n",
      "KS: 0.21668049307300674 : 0.09 / CvM: 0.001167642138298456 : 0.002 / AUC: 0.9936284823670485\n",
      "10s - loss: 6.4032 - val_loss: 6.4839\n",
      "Epoch 28/50\n",
      "KS: 0.2146151047733736 : 0.09 / CvM: 0.0011628148962443854 : 0.002 / AUC: 0.9943296881715664\n",
      "9s - loss: 6.4459 - val_loss: 6.4597\n",
      "Epoch 29/50\n",
      "KS: 0.22947465924649302 : 0.09 / CvM: 0.001145762421678968 : 0.002 / AUC: 0.994400170839842\n",
      "9s - loss: 6.4356 - val_loss: 6.4656\n",
      "Epoch 30/50\n",
      "KS: 0.22504238376148883 : 0.09 / CvM: 0.0011502043468972264 : 0.002 / AUC: 0.9945793279321747\n",
      "10s - loss: 6.4324 - val_loss: 6.4952\n",
      "Epoch 31/50\n",
      "KS: 0.2283929708752907 : 0.09 / CvM: 0.001144791946139846 : 0.002 / AUC: 0.994643508220354\n",
      "10s - loss: 6.4297 - val_loss: 6.4585\n",
      "Epoch 32/50\n",
      "KS: 0.23305681807580786 : 0.09 / CvM: 0.0011147128524731102 : 0.002 / AUC: 0.9944057488681174\n",
      "10s - loss: 6.2823 - val_loss: 6.4683\n",
      "Epoch 33/50\n",
      "KS: 0.2062284155260138 : 0.09 / CvM: 0.0011575289379307098 : 0.002 / AUC: 0.994513365091308\n",
      "10s - loss: 6.2869 - val_loss: 6.4595\n",
      "Epoch 34/50\n",
      "KS: 0.21631242671090023 : 0.09 / CvM: 0.0012188184750414896 : 0.002 / AUC: 0.9947446378692733\n",
      "12s - loss: 6.4312 - val_loss: 6.5029\n",
      "Epoch 35/50\n",
      "KS: 0.2063703639170948 : 0.09 / CvM: 0.0011569314761419784 : 0.002 / AUC: 0.994826446416214\n",
      "11s - loss: 6.4262 - val_loss: 6.4529\n",
      "Epoch 36/50\n"
     ]
    },
    {
     "name": "stderr",
     "output_type": "stream",
     "text": [
      "/usr/local/lib/python3.5/site-packages/keras/initializations.py:30: VisibleDeprecationWarning: using a non-integer number instead of an integer will result in an error in the future\n",
      "  return K.variable(np.random.uniform(low=-scale, high=scale, size=shape),\n",
      "/usr/local/lib/python3.5/site-packages/keras/backend/theano_backend.py:58: VisibleDeprecationWarning: using a non-integer number instead of an integer will result in an error in the future\n",
      "  return variable(np.zeros(shape), dtype, name)\n"
     ]
    },
    {
     "ename": "KeyboardInterrupt",
     "evalue": "",
     "output_type": "error",
     "traceback": [
      "\u001b[0;31m---------------------------------------------------------------------------\u001b[0m",
      "\u001b[0;31mKeyboardInterrupt\u001b[0m                         Traceback (most recent call last)",
      "\u001b[0;32m<ipython-input-4-93965f072edf>\u001b[0m in \u001b[0;36m<module>\u001b[0;34m()\u001b[0m\n\u001b[1;32m     11\u001b[0m     \u001b[0mm\u001b[0m \u001b[0;34m=\u001b[0m \u001b[0mcreate_model\u001b[0m\u001b[0;34m(\u001b[0m\u001b[0mX\u001b[0m\u001b[0;34m.\u001b[0m\u001b[0mshape\u001b[0m\u001b[0;34m[\u001b[0m\u001b[0;36m1\u001b[0m\u001b[0;34m]\u001b[0m\u001b[0;34m,\u001b[0m \u001b[0ml\u001b[0m\u001b[0;34m,\u001b[0m \u001b[0mdomain_weight\u001b[0m\u001b[0;34m)\u001b[0m\u001b[0;34m\u001b[0m\u001b[0m\n\u001b[1;32m     12\u001b[0m     model.fit_model(m, X, y, Xa, ya, wa, Xc, mc, epoch_count=n_epochs, batch_size=64,\n\u001b[0;32m---> 13\u001b[0;31m                     validation_split=0.05, verbose=2)\n\u001b[0m\u001b[1;32m     14\u001b[0m     \u001b[0mp\u001b[0m \u001b[0;34m=\u001b[0m \u001b[0mmodel\u001b[0m\u001b[0;34m.\u001b[0m\u001b[0mpredict_model\u001b[0m\u001b[0;34m(\u001b[0m\u001b[0mm\u001b[0m\u001b[0;34m,\u001b[0m \u001b[0mnp\u001b[0m\u001b[0;34m.\u001b[0m\u001b[0marray\u001b[0m\u001b[0;34m(\u001b[0m\u001b[0mX_test\u001b[0m\u001b[0;34m)\u001b[0m\u001b[0;34m)\u001b[0m\u001b[0;34m\u001b[0m\u001b[0m\n\u001b[1;32m     15\u001b[0m     \u001b[0mprobs\u001b[0m \u001b[0;34m=\u001b[0m \u001b[0mp\u001b[0m \u001b[0;32mif\u001b[0m \u001b[0mprobs\u001b[0m \u001b[0;32mis\u001b[0m \u001b[0;32mNone\u001b[0m \u001b[0;32melse\u001b[0m \u001b[0mp\u001b[0m \u001b[0;34m+\u001b[0m \u001b[0mprobs\u001b[0m\u001b[0;34m\u001b[0m\u001b[0m\n",
      "\u001b[0;32m/Users/kiselev/Documents/GradientReversal/model.py\u001b[0m in \u001b[0;36mfit_model\u001b[0;34m(model, X, y, Xa, ya, wa, Xc, mc, validation_split, epoch_count, batch_size, verbose)\u001b[0m\n\u001b[1;32m    137\u001b[0m               \u001b[0mnb_epoch\u001b[0m\u001b[0;34m=\u001b[0m\u001b[0mepoch_count\u001b[0m\u001b[0;34m,\u001b[0m \u001b[0mbatch_size\u001b[0m\u001b[0;34m=\u001b[0m\u001b[0mbatch_size\u001b[0m\u001b[0;34m,\u001b[0m\u001b[0;34m\u001b[0m\u001b[0m\n\u001b[1;32m    138\u001b[0m               \u001b[0mvalidation_split\u001b[0m\u001b[0;34m=\u001b[0m\u001b[0mvalidation_split\u001b[0m\u001b[0;34m,\u001b[0m \u001b[0mverbose\u001b[0m\u001b[0;34m=\u001b[0m\u001b[0mverbose\u001b[0m\u001b[0;34m,\u001b[0m\u001b[0;34m\u001b[0m\u001b[0m\n\u001b[0;32m--> 139\u001b[0;31m               callbacks=[ShowMetrics(model, Xa, ya, wa, Xc, mc, X, y)])\n\u001b[0m\u001b[1;32m    140\u001b[0m     \u001b[0;32mreturn\u001b[0m \u001b[0mmodel\u001b[0m\u001b[0;34m\u001b[0m\u001b[0m\n\u001b[1;32m    141\u001b[0m \u001b[0;34m\u001b[0m\u001b[0m\n",
      "\u001b[0;32m/usr/local/lib/python3.5/site-packages/keras/models.py\u001b[0m in \u001b[0;36mfit\u001b[0;34m(self, data, batch_size, nb_epoch, verbose, callbacks, validation_split, validation_data, shuffle, show_accuracy, class_weight, sample_weight)\u001b[0m\n\u001b[1;32m   1404\u001b[0m                             \u001b[0mverbose\u001b[0m\u001b[0;34m=\u001b[0m\u001b[0mverbose\u001b[0m\u001b[0;34m,\u001b[0m \u001b[0mcallbacks\u001b[0m\u001b[0;34m=\u001b[0m\u001b[0mcallbacks\u001b[0m\u001b[0;34m,\u001b[0m\u001b[0;34m\u001b[0m\u001b[0m\n\u001b[1;32m   1405\u001b[0m                             \u001b[0mval_f\u001b[0m\u001b[0;34m=\u001b[0m\u001b[0mval_f\u001b[0m\u001b[0;34m,\u001b[0m \u001b[0mval_ins\u001b[0m\u001b[0;34m=\u001b[0m\u001b[0mval_ins\u001b[0m\u001b[0;34m,\u001b[0m\u001b[0;34m\u001b[0m\u001b[0m\n\u001b[0;32m-> 1406\u001b[0;31m                             shuffle=shuffle, metrics=metrics)\n\u001b[0m\u001b[1;32m   1407\u001b[0m         \u001b[0;32mreturn\u001b[0m \u001b[0mhistory\u001b[0m\u001b[0;34m\u001b[0m\u001b[0m\n\u001b[1;32m   1408\u001b[0m \u001b[0;34m\u001b[0m\u001b[0m\n",
      "\u001b[0;32m/usr/local/lib/python3.5/site-packages/keras/models.py\u001b[0m in \u001b[0;36m_fit\u001b[0;34m(self, f, ins, out_labels, batch_size, nb_epoch, verbose, callbacks, val_f, val_ins, shuffle, metrics)\u001b[0m\n\u001b[1;32m    315\u001b[0m                 \u001b[0mbatch_logs\u001b[0m\u001b[0;34m[\u001b[0m\u001b[0;34m'size'\u001b[0m\u001b[0;34m]\u001b[0m \u001b[0;34m=\u001b[0m \u001b[0mlen\u001b[0m\u001b[0;34m(\u001b[0m\u001b[0mbatch_ids\u001b[0m\u001b[0;34m)\u001b[0m\u001b[0;34m\u001b[0m\u001b[0m\n\u001b[1;32m    316\u001b[0m                 \u001b[0mcallbacks\u001b[0m\u001b[0;34m.\u001b[0m\u001b[0mon_batch_begin\u001b[0m\u001b[0;34m(\u001b[0m\u001b[0mbatch_index\u001b[0m\u001b[0;34m,\u001b[0m \u001b[0mbatch_logs\u001b[0m\u001b[0;34m)\u001b[0m\u001b[0;34m\u001b[0m\u001b[0m\n\u001b[0;32m--> 317\u001b[0;31m                 \u001b[0mouts\u001b[0m \u001b[0;34m=\u001b[0m \u001b[0mf\u001b[0m\u001b[0;34m(\u001b[0m\u001b[0mins_batch\u001b[0m\u001b[0;34m)\u001b[0m\u001b[0;34m\u001b[0m\u001b[0m\n\u001b[0m\u001b[1;32m    318\u001b[0m                 \u001b[0;32mif\u001b[0m \u001b[0mtype\u001b[0m\u001b[0;34m(\u001b[0m\u001b[0mouts\u001b[0m\u001b[0;34m)\u001b[0m \u001b[0;34m!=\u001b[0m \u001b[0mlist\u001b[0m\u001b[0;34m:\u001b[0m\u001b[0;34m\u001b[0m\u001b[0m\n\u001b[1;32m    319\u001b[0m                     \u001b[0mouts\u001b[0m \u001b[0;34m=\u001b[0m \u001b[0;34m[\u001b[0m\u001b[0mouts\u001b[0m\u001b[0;34m]\u001b[0m\u001b[0;34m\u001b[0m\u001b[0m\n",
      "\u001b[0;32m/usr/local/lib/python3.5/site-packages/keras/backend/theano_backend.py\u001b[0m in \u001b[0;36m__call__\u001b[0;34m(self, inputs)\u001b[0m\n\u001b[1;32m    440\u001b[0m     \u001b[0;32mdef\u001b[0m \u001b[0m__call__\u001b[0m\u001b[0;34m(\u001b[0m\u001b[0mself\u001b[0m\u001b[0;34m,\u001b[0m \u001b[0minputs\u001b[0m\u001b[0;34m)\u001b[0m\u001b[0;34m:\u001b[0m\u001b[0;34m\u001b[0m\u001b[0m\n\u001b[1;32m    441\u001b[0m         \u001b[0;32massert\u001b[0m \u001b[0mtype\u001b[0m\u001b[0;34m(\u001b[0m\u001b[0minputs\u001b[0m\u001b[0;34m)\u001b[0m \u001b[0;32min\u001b[0m \u001b[0;34m{\u001b[0m\u001b[0mlist\u001b[0m\u001b[0;34m,\u001b[0m \u001b[0mtuple\u001b[0m\u001b[0;34m}\u001b[0m\u001b[0;34m\u001b[0m\u001b[0m\n\u001b[0;32m--> 442\u001b[0;31m         \u001b[0;32mreturn\u001b[0m \u001b[0mself\u001b[0m\u001b[0;34m.\u001b[0m\u001b[0mfunction\u001b[0m\u001b[0;34m(\u001b[0m\u001b[0;34m*\u001b[0m\u001b[0minputs\u001b[0m\u001b[0;34m)\u001b[0m\u001b[0;34m\u001b[0m\u001b[0m\n\u001b[0m\u001b[1;32m    443\u001b[0m \u001b[0;34m\u001b[0m\u001b[0m\n\u001b[1;32m    444\u001b[0m \u001b[0;34m\u001b[0m\u001b[0m\n",
      "\u001b[0;32m/usr/local/lib/python3.5/site-packages/theano/compile/function_module.py\u001b[0m in \u001b[0;36m__call__\u001b[0;34m(self, *args, **kwargs)\u001b[0m\n\u001b[1;32m    857\u001b[0m         \u001b[0mt0_fn\u001b[0m \u001b[0;34m=\u001b[0m \u001b[0mtime\u001b[0m\u001b[0;34m.\u001b[0m\u001b[0mtime\u001b[0m\u001b[0;34m(\u001b[0m\u001b[0;34m)\u001b[0m\u001b[0;34m\u001b[0m\u001b[0m\n\u001b[1;32m    858\u001b[0m         \u001b[0;32mtry\u001b[0m\u001b[0;34m:\u001b[0m\u001b[0;34m\u001b[0m\u001b[0m\n\u001b[0;32m--> 859\u001b[0;31m             \u001b[0moutputs\u001b[0m \u001b[0;34m=\u001b[0m \u001b[0mself\u001b[0m\u001b[0;34m.\u001b[0m\u001b[0mfn\u001b[0m\u001b[0;34m(\u001b[0m\u001b[0;34m)\u001b[0m\u001b[0;34m\u001b[0m\u001b[0m\n\u001b[0m\u001b[1;32m    860\u001b[0m         \u001b[0;32mexcept\u001b[0m \u001b[0mException\u001b[0m\u001b[0;34m:\u001b[0m\u001b[0;34m\u001b[0m\u001b[0m\n\u001b[1;32m    861\u001b[0m             \u001b[0;32mif\u001b[0m \u001b[0mhasattr\u001b[0m\u001b[0;34m(\u001b[0m\u001b[0mself\u001b[0m\u001b[0;34m.\u001b[0m\u001b[0mfn\u001b[0m\u001b[0;34m,\u001b[0m \u001b[0;34m'position_of_error'\u001b[0m\u001b[0;34m)\u001b[0m\u001b[0;34m:\u001b[0m\u001b[0;34m\u001b[0m\u001b[0m\n",
      "\u001b[0;32m/usr/local/lib/python3.5/site-packages/theano/gof/op.py\u001b[0m in \u001b[0;36mrval\u001b[0;34m(p, i, o, n)\u001b[0m\n\u001b[1;32m    910\u001b[0m             \u001b[0;31m# default arguments are stored in the closure of `rval`\u001b[0m\u001b[0;34m\u001b[0m\u001b[0;34m\u001b[0m\u001b[0m\n\u001b[1;32m    911\u001b[0m             \u001b[0;32mdef\u001b[0m \u001b[0mrval\u001b[0m\u001b[0;34m(\u001b[0m\u001b[0mp\u001b[0m\u001b[0;34m=\u001b[0m\u001b[0mp\u001b[0m\u001b[0;34m,\u001b[0m \u001b[0mi\u001b[0m\u001b[0;34m=\u001b[0m\u001b[0mnode_input_storage\u001b[0m\u001b[0;34m,\u001b[0m \u001b[0mo\u001b[0m\u001b[0;34m=\u001b[0m\u001b[0mnode_output_storage\u001b[0m\u001b[0;34m,\u001b[0m \u001b[0mn\u001b[0m\u001b[0;34m=\u001b[0m\u001b[0mnode\u001b[0m\u001b[0;34m)\u001b[0m\u001b[0;34m:\u001b[0m\u001b[0;34m\u001b[0m\u001b[0m\n\u001b[0;32m--> 912\u001b[0;31m                 \u001b[0mr\u001b[0m \u001b[0;34m=\u001b[0m \u001b[0mp\u001b[0m\u001b[0;34m(\u001b[0m\u001b[0mn\u001b[0m\u001b[0;34m,\u001b[0m \u001b[0;34m[\u001b[0m\u001b[0mx\u001b[0m\u001b[0;34m[\u001b[0m\u001b[0;36m0\u001b[0m\u001b[0;34m]\u001b[0m \u001b[0;32mfor\u001b[0m \u001b[0mx\u001b[0m \u001b[0;32min\u001b[0m \u001b[0mi\u001b[0m\u001b[0;34m]\u001b[0m\u001b[0;34m,\u001b[0m \u001b[0mo\u001b[0m\u001b[0;34m)\u001b[0m\u001b[0;34m\u001b[0m\u001b[0m\n\u001b[0m\u001b[1;32m    913\u001b[0m                 \u001b[0;32mfor\u001b[0m \u001b[0mo\u001b[0m \u001b[0;32min\u001b[0m \u001b[0mnode\u001b[0m\u001b[0;34m.\u001b[0m\u001b[0moutputs\u001b[0m\u001b[0;34m:\u001b[0m\u001b[0;34m\u001b[0m\u001b[0m\n\u001b[1;32m    914\u001b[0m                     \u001b[0mcompute_map\u001b[0m\u001b[0;34m[\u001b[0m\u001b[0mo\u001b[0m\u001b[0;34m]\u001b[0m\u001b[0;34m[\u001b[0m\u001b[0;36m0\u001b[0m\u001b[0;34m]\u001b[0m \u001b[0;34m=\u001b[0m \u001b[0;32mTrue\u001b[0m\u001b[0;34m\u001b[0m\u001b[0m\n",
      "\u001b[0;32m/usr/local/lib/python3.5/site-packages/theano/tensor/blas.py\u001b[0m in \u001b[0;36mperform\u001b[0;34m(self, node, inp, out)\u001b[0m\n\u001b[1;32m   1821\u001b[0m         \u001b[0mz\u001b[0m\u001b[0;34m,\u001b[0m \u001b[0;34m=\u001b[0m \u001b[0mout\u001b[0m\u001b[0;34m\u001b[0m\u001b[0m\n\u001b[1;32m   1822\u001b[0m         \u001b[0;32mtry\u001b[0m\u001b[0;34m:\u001b[0m\u001b[0;34m\u001b[0m\u001b[0m\n\u001b[0;32m-> 1823\u001b[0;31m             \u001b[0mz\u001b[0m\u001b[0;34m[\u001b[0m\u001b[0;36m0\u001b[0m\u001b[0;34m]\u001b[0m \u001b[0;34m=\u001b[0m \u001b[0mnumpy\u001b[0m\u001b[0;34m.\u001b[0m\u001b[0masarray\u001b[0m\u001b[0;34m(\u001b[0m\u001b[0mscalar\u001b[0m \u001b[0;34m*\u001b[0m \u001b[0mnumpy\u001b[0m\u001b[0;34m.\u001b[0m\u001b[0mdot\u001b[0m\u001b[0;34m(\u001b[0m\u001b[0mx\u001b[0m\u001b[0;34m,\u001b[0m \u001b[0my\u001b[0m\u001b[0;34m)\u001b[0m\u001b[0;34m)\u001b[0m\u001b[0;34m\u001b[0m\u001b[0m\n\u001b[0m\u001b[1;32m   1824\u001b[0m         \u001b[0;32mexcept\u001b[0m \u001b[0mValueError\u001b[0m \u001b[0;32mas\u001b[0m \u001b[0me\u001b[0m\u001b[0;34m:\u001b[0m\u001b[0;34m\u001b[0m\u001b[0m\n\u001b[1;32m   1825\u001b[0m             \u001b[0;31m# The error raised by numpy has no shape information, we\u001b[0m\u001b[0;34m\u001b[0m\u001b[0;34m\u001b[0m\u001b[0m\n",
      "\u001b[0;31mKeyboardInterrupt\u001b[0m: "
     ]
    }
   ],
   "source": [
    "np.random.seed(1337)  # repeatability\n",
    "seed(1337)\n",
    "\n",
    "n_models = 1\n",
    "n_epochs = 50\n",
    "probs = None\n",
    "for i in range(n_models):\n",
    "    l = 1.6\n",
    "    domain_weight = 1\n",
    "    print(\"Model {}; l = {}; domain_weight = {}\".format(i, l, domain_weight))\n",
    "    m = create_model(X.shape[1], l, domain_weight)\n",
    "    model.fit_model(m, X, y, Xa, ya, wa, Xc, mc, epoch_count=n_epochs, batch_size=64,\n",
    "                    validation_split=0.05, verbose=2)\n",
    "    p = model.predict_model(m, np.array(X_test))\n",
    "    probs = p if probs is None else p + probs\n",
    "probs /= n_models"
   ]
  },
  {
   "cell_type": "code",
   "execution_count": null,
   "metadata": {
    "collapsed": true
   },
   "outputs": [],
   "source": [
    "data.save_submission(ids, probs, \"grl_prediction.csv\")"
   ]
  },
  {
   "cell_type": "code",
   "execution_count": null,
   "metadata": {
    "collapsed": false,
    "scrolled": false
   },
   "outputs": [],
   "source": [
    "np.random.seed(1337)  # repeatability\n",
    "seed(1337)\n",
    "\n",
    "n_models = 100\n",
    "n_epochs = 100\n",
    "for i in range(n_models):\n",
    "    l = np.random.choice(np.linspace(0, 30, 20))\n",
    "    domain_weight = np.random.choice(np.linspace(0.5, 3, 5))\n",
    "    print(\"Model {}; l = {}; domain_weight = {}\".format(i, l, domain_weight))\n",
    "    m = create_model(X.shape[1], l, domain_weight)\n",
    "    model.fit_model(m, X, y, Xa, ya, wa, Xc, mc, epoch_count=n_epochs, batch_size=64,\n",
    "                    validation_split=0.05, verbose=0)\n",
    "    p = model.predict_model(m, np.array(X_test))\n",
    "    data.save_submission(ids, p, \"grl_prediction_{}_{}.csv\".format(l, domain_weight))"
   ]
  },
  {
   "cell_type": "code",
   "execution_count": null,
   "metadata": {
    "collapsed": true
   },
   "outputs": [],
   "source": []
  }
 ],
 "metadata": {
  "kernelspec": {
   "display_name": "IPython (Python 3)",
   "language": "python",
   "name": "python3"
  },
  "language_info": {
   "codemirror_mode": {
    "name": "ipython",
    "version": 3
   },
   "file_extension": ".py",
   "mimetype": "text/x-python",
   "name": "python",
   "nbconvert_exporter": "python",
   "pygments_lexer": "ipython3",
   "version": "3.5.1"
  }
 },
 "nbformat": 4,
 "nbformat_minor": 0
}
